{
 "cells": [
  {
   "cell_type": "markdown",
   "metadata": {},
   "source": [
    "# Analysing the Graph of Stack Overflow"
   ]
  },
  {
   "cell_type": "markdown",
   "metadata": {},
   "source": [
    "**To be completed INDIVIDUALLY and due on May 3 at 3pm.**"
   ]
  },
  {
   "cell_type": "code",
   "execution_count": null,
   "metadata": {
    "collapsed": true
   },
   "outputs": [],
   "source": [
    "print('John Spinelli, U50128653')"
   ]
  },
  {
   "cell_type": "markdown",
   "metadata": {},
   "source": [
    "** (70 pts) **\n",
    "\n"
   ]
  },
  {
   "cell_type": "markdown",
   "metadata": {},
   "source": [
    "In this assignment, we will look at posts on Stack Overflow during the year of 2015. We have downloaded the [data dump](http://cs-people.bu.edu/bahargam/506/stackoverflow-posts-2015.tar.gz) for Stack Overflow's posts in 2015. In this assignment, we will analyse the graph of interaction among users. The nodes in this graph will be the users. If $user_{i  }$ has answered a question of $user_{j}$ (or vice versa), there will be an edge between $node_{i}$ and $node_{j}$ in the graph."
   ]
  },
  {
   "cell_type": "code",
   "execution_count": 2,
   "metadata": {
    "collapsed": false
   },
   "outputs": [
    {
     "name": "stdout",
     "output_type": "stream",
     "text": [
      "        QuestionUserId   post_id AnswerUserId\n",
      "0              3210431  27727385      3076534\n",
      "1              3210431  27727385      1491895\n",
      "2               868779  27727388      4839157\n",
      "3              4372672  27727391      3379653\n",
      "4              2482149  27727393      3349551\n",
      "5              4263870  27727394         6216\n",
      "6              4263870  27727394      1300892\n",
      "7               821742  27727407       871026\n",
      "8              2595033  27727408      1043683\n",
      "9              1815395  27727409      2095828\n",
      "10              541091  27727410       541091\n",
      "11             1210038  27727414      2112866\n",
      "12             3674356  27727418       594235\n",
      "13              347062  27727419      3113558\n",
      "14             1254618  27727424      2997825\n",
      "15             3412951  27727427      1935918\n",
      "16             1743377  27727429       938089\n",
      "17              169992  27727433      3386109\n",
      "18              169992  27727433      3422102\n",
      "19              169992  27727433      3386109\n",
      "20             4056620  27727434      1445366\n",
      "21             4056620  27727434      2085504\n",
      "22             2993567  27727439      2993567\n",
      "23             3085148  27727442      3829407\n",
      "24             2457761  27727444      1858561\n",
      "25             4371259  27727446      2050455\n",
      "26             3802790  27727455       385754\n",
      "27             3802790  27727455      3802790\n",
      "28             3802790  27727455       859471\n",
      "29             3802790  27727455      2043158\n",
      "...                ...       ...          ...\n",
      "2838928        2152216  34552301       556573\n",
      "2838929        3837733  34552306      5735049\n",
      "2838930        5285528  34552320      4635763\n",
      "2838931        4266886  34552323      4266886\n",
      "2838932         768779  34552335      3494013\n",
      "2838933        5735061  34552337       533333\n",
      "2838934        4932301  34552347      2518231\n",
      "2838935        3927674  34552364        11492\n",
      "2838936        3927674  34552364      1664443\n",
      "2838937        1755598  34552372      1491895\n",
      "2838938        5302690  34552380       560648\n",
      "2838939        5302690  34552380       291737\n",
      "2838940        5302690  34552380        12711\n",
      "2838941        1799389  34552384       324584\n",
      "2838942        3284878  34552390      3171657\n",
      "2838943        3284878  34552390      3887516\n",
      "2838944        5179734  34552392      3618581\n",
      "2838945        5179734  34552392      1394631\n",
      "2838946        3948553  34552396       276949\n",
      "2838947        4372759  34552411      5729061\n",
      "2838948        4372759  34552411       104349\n",
      "2838949        4372759  34552411       617185\n",
      "2838950         614443  34552414      2196904\n",
      "2838951        5732477  34552430      2771469\n",
      "2838952        5280409  34552451      1709104\n",
      "2838953        4673488  34552473      1628919\n",
      "2838954        5735090  34552487      1411249\n",
      "2838955        2665223  34552504      2925287\n",
      "2838956        5618866  34552519       434551\n",
      "2838957     user207491  34558008      2234058\n",
      "\n",
      "[2838958 rows x 3 columns]\n"
     ]
    }
   ],
   "source": [
    "import matplotlib as mp\n",
    "import pandas as pd\n",
    "from pandas import DataFrame as Df\n",
    "import matplotlib.pyplot as plt\n",
    "import pandas as pd\n",
    "from importlib import reload\n",
    "from datetime import datetime\n",
    "import seaborn as sns\n",
    "from sklearn.preprocessing import MinMaxScaler\n",
    "import xml.etree.ElementTree as ET\n",
    "import networkx as nx\n",
    "from collections import defaultdict\n",
    "\n",
    "path = '/Users/JohnSpinelli/desktop/stackoverflow-posts-2015.xml'\n",
    "\n",
    "\n",
    "questionUserId = []\n",
    "answerUserId = []\n",
    "\n",
    "\n",
    "for event, elem in ET.iterparse(path, events=(\"start\", \"end\")):\n",
    "    \n",
    "    try:\n",
    "        if elem.attrib['PostTypeId'] == '1':\n",
    "            if 'OwnerUserId' in elem.attrib:\n",
    "                questionUserId.append({'QuestionUserId':elem.attrib['OwnerUserId'],\\\n",
    "                                       'post_id':elem.attrib['Id']})\n",
    "                \n",
    "            else: \n",
    "                questionUserId.append({'QuestionUserId':elem.attrib['OwnerDisplayName'],\\\n",
    "                                       'post_id':elem.attrib['Id']})\n",
    "                \n",
    "        elif elem.attrib['PostTypeId'] == '2':\n",
    "            if 'OwnerUserId' in elem.attrib:\n",
    "                answerUserId.append({'AnswerUserId':elem.attrib['OwnerUserId'],\\\n",
    "                                       'post_id':elem.attrib['ParentId']})\n",
    "                \n",
    "            else: \n",
    "                answerUserId.append({'AnswerUserId':elem.attrib['OwnerDisplayName'],\\\n",
    "                                       'post_id':elem.attrib['ParentId']})\n",
    "                \n",
    "            \n",
    "    except: None\n",
    "    elem.clear()\n",
    "    \n",
    "    \n",
    "questionUserDf = Df(questionUserId)\n",
    "answerUserDf = Df(answerUserId)\n",
    "\n",
    "mergedPosts = pd.merge(questionUserDf,answerUserDf,on='post_id')\n",
    "mergedPosts.to_csv('/Users/JohnSpinelli/desktop/userData.csv')\n",
    "print(mergedPosts)"
   ]
  },
  {
   "cell_type": "markdown",
   "metadata": {},
   "source": [
    "## Step 1\n",
    "Analyze the resulting graph in terms of the number of connected components and degree distribution."
   ]
  },
  {
   "cell_type": "code",
   "execution_count": 5,
   "metadata": {
    "collapsed": false
   },
   "outputs": [
    {
     "name": "stdout",
     "output_type": "stream",
     "text": [
      "Largest Component Length: \n",
      "773567\n",
      "Largest Degree: \n",
      "6749\n",
      "Component Distribution Length: \n",
      "36563\n",
      "Degree Distribution Length: \n",
      "822806\n"
     ]
    }
   ],
   "source": [
    "import numpy as np\n",
    "import matplotlib as mp\n",
    "import pandas as pd\n",
    "from pandas import DataFrame as Df\n",
    "import matplotlib.pyplot as plt\n",
    "import pandas as pd\n",
    "from importlib import reload\n",
    "from datetime import datetime\n",
    "import seaborn as sns\n",
    "from sklearn.preprocessing import MinMaxScaler\n",
    "import xml.etree.ElementTree as ET\n",
    "import networkx as nx\n",
    "from collections import defaultdict\n",
    "\n",
    "\n",
    "\n",
    "path = '/Users/JohnSpinelli/desktop/userData.csv'\n",
    "mergedPosts = Df.from_csv(path)\n",
    "questionIds = mergedPosts['QuestionUserId']\n",
    "answerIds = mergedPosts['AnswerUserId']\n",
    "g = nx.Graph()\n",
    "g.add_nodes_from(questionIds)\n",
    "g.add_nodes_from(answerIds)\n",
    "\n",
    "g.add_edges_from([(questionIds[x],answerIds[x]) for x in range(len(questionIds))])\n",
    "\n",
    "Gc = max(nx.connected_components(g),key=len)\n",
    "largestComponentLength = len(Gc)\n",
    "largestDegree = max(nx.degree(g).values())\n",
    "componentDistribution = len(list(nx.connected_components(g)))\n",
    "degreeDistribution = len(list(nx.degree(g).values()))\n",
    "print('Largest Component Length: ')\n",
    "print(largestComponentLength)\n",
    "print('Largest Degree: ')\n",
    "print(largestDegree)\n",
    "print('Component Distribution Length: ')\n",
    "print(componentDistribution)\n",
    "print('Degree Distribution Length: ')\n",
    "print(degreeDistribution)"
   ]
  },
  {
   "cell_type": "markdown",
   "metadata": {},
   "source": [
    "## Step 2\n",
    "Working with the largest connected component and using three of the methods we described in the class, find the centrality scores of the nodes in this component.  Then use the $L_{1}$ distance to perform a comparison of the three methods. Finally, visualize your results."
   ]
  },
  {
   "cell_type": "code",
   "execution_count": 7,
   "metadata": {
    "collapsed": false
   },
   "outputs": [
    {
     "name": "stdout",
     "output_type": "stream",
     "text": [
      "L1 Distance between closeness and betweenness:1376.11794242\n",
      "L1 Distance between eigenvector and betweenness:46.1825203802\n",
      "L1 Distance between closeness and eigenvector:1329.93542204\n"
     ]
    },
    {
     "data": {
      "image/png": "[encoded data removed]",
      "text/plain": [
       "<matplotlib.figure.Figure at 0x1311ec278>"
      ]
     },
     "metadata": {},
     "output_type": "display_data"
    },
    {
     "data": {
      "image/png": "[encoded data removed]",
      "text/plain": [
       "<matplotlib.figure.Figure at 0x12788d080>"
      ]
     },
     "metadata": {},
     "output_type": "display_data"
    },
    {
     "data": {
      "image/png": "[encoded data removed]",
      "text/plain": [
       "<matplotlib.figure.Figure at 0x1922a4080>"
      ]
     },
     "metadata": {},
     "output_type": "display_data"
    }
   ],
   "source": [
    "import numpy as np\n",
    "import matplotlib as mp\n",
    "import pandas as pd\n",
    "from pandas import DataFrame as Df\n",
    "import matplotlib.pyplot as plt\n",
    "import pandas as pd\n",
    "from importlib import reload\n",
    "from datetime import datetime\n",
    "import seaborn as sns\n",
    "from sklearn.preprocessing import MinMaxScaler\n",
    "import xml.etree.ElementTree as ET\n",
    "import networkx as nx\n",
    "from collections import defaultdict\n",
    "\n",
    "def L1(v1,v2):\n",
    "    if(len(v1)!=len(v2)):\n",
    "        print('error')\n",
    "        return -1\n",
    "    return sum([abs(v1[i]-v2[i]) for i in range(len(v1))])\n",
    "\n",
    "def graphData(cent,xlabel):    \n",
    "    \n",
    "    plt.hist(cent,bins=np.linspace(0,1,20))\n",
    "    plt.xlabel(xlabel)\n",
    "    _=plt.ylabel('Number of Nodes')\n",
    "    plt.show()\n",
    "\n",
    "path = '/Users/JohnSpinelli/desktop/userData.csv'\n",
    "mergedPosts = Df.from_csv(path)\n",
    "questionIds = mergedPosts['QuestionUserId']\n",
    "answerIds = mergedPosts['AnswerUserId']\n",
    "g = nx.Graph()\n",
    "g.add_nodes_from(questionIds)\n",
    "g.add_nodes_from(answerIds)\n",
    "\n",
    "g.add_edges_from([(questionIds[x],answerIds[x]) for x in range(len(questionIds))])\n",
    "\n",
    "\n",
    "Gc = max(nx.connected_component_subgraphs(g),key=len)\n",
    "Gc.remove_edges_from(Gc.selfloop_edges())\n",
    "\n",
    "KcoreGc = nx.k_core(Gc)\n",
    "\n",
    "cent1 = np.array(list(nx.closeness_centrality(KcoreGc).values()))\n",
    "cent2 = np.array(list(nx.betweenness_centrality(KcoreGc).values()))\n",
    "cent3 = np.array(list(nx.eigenvector_centrality(KcoreGc).values()))\n",
    "\n",
    "Lcent12 = L1(cent1,cent2)\n",
    "Lcent23 = L1(cent2,cent3)\n",
    "Lcent13 = L1(cent1,cent3)        \n",
    "\n",
    "print('L1 Distance between closeness and betweenness:' + str(Lcent12))  \n",
    "print('L1 Distance between eigenvector and betweenness:' + str(Lcent23)) \n",
    "print('L1 Distance between closeness and eigenvector:' + str(Lcent13)) \n",
    "\n",
    "\n",
    "graphData(cent1,'Closeness Centrality')\n",
    "graphData(cent2,'Betweenness Centrality')\n",
    "graphData(cent3,'Eigenvector Centrality')\n",
    "\n"
   ]
  },
  {
   "cell_type": "markdown",
   "metadata": {},
   "source": [
    "## Step 3\n",
    "Again working with the largest connected component, use two different methods for identifying communities (partitions of the graph). Visualize your results and compare the output of the two methods using standard clustering comparison methods we discussed in the class."
   ]
  },
  {
   "cell_type": "code",
   "execution_count": null,
   "metadata": {
    "collapsed": true
   },
   "outputs": [],
   "source": []
  }
 ],
 "metadata": {
  "kernelspec": {
   "display_name": "Python 3",
   "language": "python",
   "name": "python3"
  },
  "language_info": {
   "codemirror_mode": {
    "name": "ipython",
    "version": 3
   },
   "file_extension": ".py",
   "mimetype": "text/x-python",
   "name": "python",
   "nbconvert_exporter": "python",
   "pygments_lexer": "ipython3",
   "version": "3.6.0"
  }
 },
 "nbformat": 4,
 "nbformat_minor": 1
}
